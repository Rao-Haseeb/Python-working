{
 "cells": [
  {
   "cell_type": "markdown",
   "id": "ae33b4b0-0834-416b-bec5-c9feee3b6a05",
   "metadata": {},
   "source": [
    "## Question 1"
   ]
  },
  {
   "cell_type": "code",
   "execution_count": 5,
   "id": "95f8fd49-de80-4efe-bf5f-102c4d653c2f",
   "metadata": {},
   "outputs": [
    {
     "name": "stdout",
     "output_type": "stream",
     "text": [
      "(1, 2, 3)\n",
      "[4, 5, 6]\n",
      "('apple', 'banana', 'cherry')\n",
      "[7, 8, 9]\n"
     ]
    }
   ],
   "source": [
    "my_tuple = ((1, 2, 3), [4, 5, 6], ('apple', 'banana', 'cherry'), [7, 8, 9])\n",
    "\n",
    "for x in my_tuple:\n",
    "    print(x)"
   ]
  },
  {
   "cell_type": "code",
   "execution_count": 6,
   "id": "28842b6b-dec0-49d9-85d4-318e80332842",
   "metadata": {},
   "outputs": [
    {
     "name": "stdout",
     "output_type": "stream",
     "text": [
      "(1, 2, 3, 7, 8, 9)\n"
     ]
    }
   ],
   "source": [
    "new_tuple = my_tuple[0] + tuple(my_tuple[-1]) \n",
    "\n",
    "print(new_tuple)"
   ]
  },
  {
   "cell_type": "markdown",
   "id": "e97a732d-285f-4416-adab-4d206d9b8f07",
   "metadata": {},
   "source": [
    "## Question 2"
   ]
  },
  {
   "cell_type": "code",
   "execution_count": 16,
   "id": "af99f95e-ca7f-41b4-a37d-60fe9f6910a6",
   "metadata": {},
   "outputs": [
    {
     "name": "stdout",
     "output_type": "stream",
     "text": [
      "{'The Great Gatsby': {'price': 10.99, 'quantity': 5}, 'Rich dad poor dad': {'price': 8.99, 'quantity': 8}, 'Harry Potter': {'price': 12.5, 'quantity': 2}, 'The Artist': {'price': 9.99, 'quantity': 0}}\n"
     ]
    }
   ],
   "source": [
    "inventory = {\n",
    "    \"The Great Gatsby\": {\"price\": 10.99, \"quantity\": 5},\n",
    "    \"Rich dad poor dad\": {\"price\": 8.99, \"quantity\": 8},\n",
    "    \"Harry Potter\": {\"price\": 12.50, \"quantity\": 2},\n",
    "}\n",
    "\n",
    "new_book = \"The Artist\"\n",
    "inventory[new_book] = {\"price\": 9.99, \"quantity\": 0}\n",
    "\n",
    "print(inventory)"
   ]
  },
  {
   "cell_type": "code",
   "execution_count": 17,
   "id": "c58eaf91-0258-49c9-b8c6-918ae68cc0dc",
   "metadata": {},
   "outputs": [
    {
     "data": {
      "text/plain": [
       "dict_keys(['The Great Gatsby', 'Rich dad poor dad', 'Harry Potter', 'The Artist'])"
      ]
     },
     "execution_count": 17,
     "metadata": {},
     "output_type": "execute_result"
    }
   ],
   "source": [
    "inventory.keys()"
   ]
  },
  {
   "cell_type": "code",
   "execution_count": 20,
   "id": "67f59574-79ea-4d77-b26f-b40fb1299e94",
   "metadata": {},
   "outputs": [
    {
     "name": "stdout",
     "output_type": "stream",
     "text": [
      "{'The Great Gatsby': {'price': 10.99, 'quantity': 5}, 'Rich dad poor dad': {'price': 8.99, 'quantity': 8}, 'Harry Potter': {'price': 12.5, 'quantity': 2}}\n"
     ]
    }
   ],
   "source": [
    "out_of_stock = []\n",
    "for title, info in inventory.items():\n",
    "    if info['quantity'] == 0:\n",
    "        out_of_stock.append(title)\n",
    "\n",
    "for title in out_of_stock:\n",
    "    del inventory[title]\n",
    "\n",
    "print(inventory)"
   ]
  },
  {
   "cell_type": "code",
   "execution_count": 21,
   "id": "4952191d-a75b-427f-b6fc-a5ca8fc114b8",
   "metadata": {},
   "outputs": [
    {
     "name": "stdout",
     "output_type": "stream",
     "text": [
      "{'The Great Gatsby': {'price': 10.99, 'quantity': 5}, 'Rich dad poor dad': {'price': 8.99, 'quantity': 8}, 'Harry Potter': {'price': 12.5, 'quantity': 2}}\n"
     ]
    }
   ],
   "source": [
    "print(inventory)"
   ]
  },
  {
   "cell_type": "markdown",
   "id": "85b48011-f3b9-4b81-b580-19219f5105f5",
   "metadata": {},
   "source": [
    "## Question 3"
   ]
  },
  {
   "cell_type": "code",
   "execution_count": 23,
   "id": "273adf5e-1665-4504-a97d-c05cd8eee951",
   "metadata": {},
   "outputs": [
    {
     "data": {
      "text/plain": [
       "{101: {'name': 'Laptop',\n",
       "  'category': 'Electronics',\n",
       "  'price': 1200,\n",
       "  'stock': 50},\n",
       " 102: {'name': 'Shirt', 'category': 'Apparel', 'price': 25, 'stock': 250},\n",
       " 103: {'name': 'Coffee Maker',\n",
       "  'category': 'Home Appliances',\n",
       "  'price': 80,\n",
       "  'stock': 30}}"
      ]
     },
     "execution_count": 23,
     "metadata": {},
     "output_type": "execute_result"
    }
   ],
   "source": [
    "products = {\n",
    "    101: {\"name\": \"Laptop\", \"category\": \"Electronics\", \"price\": 1200, \"stock\": 50},\n",
    "    102: {\"name\": \"Shirt\", \"category\": \"Apparel\", \"price\": 25, \"stock\": 200},\n",
    "    103: {\"name\": \"Coffee Maker\", \"category\": \"Home Appliances\", \"price\": 80, \"stock\": 30}\n",
    "}\n",
    "\n",
    "products[102][\"stock\"] += 50\n",
    "\n",
    "products"
   ]
  },
  {
   "cell_type": "code",
   "execution_count": 24,
   "id": "546f907b-0e4e-4a7a-8739-a7acf600a52a",
   "metadata": {},
   "outputs": [
    {
     "data": {
      "text/plain": [
       "{101: {'name': 'Laptop',\n",
       "  'category': 'Electronics',\n",
       "  'price': 1200,\n",
       "  'stock': 50},\n",
       " 102: {'name': 'Shirt', 'category': 'Apparel', 'price': 25, 'stock': 250},\n",
       " 103: {'name': 'Coffee Maker',\n",
       "  'category': 'Home Appliances',\n",
       "  'price': 80,\n",
       "  'stock': 30},\n",
       " 104: {'name': 'Smartphone',\n",
       "  'category': 'Electronics',\n",
       "  'price': 699,\n",
       "  'stock': 100}}"
      ]
     },
     "execution_count": 24,
     "metadata": {},
     "output_type": "execute_result"
    }
   ],
   "source": [
    "products[104] = {\n",
    "    \"name\": \"Smartphone\",\n",
    "    \"category\": \"Electronics\",\n",
    "    \"price\": 699,\n",
    "    \"stock\": 100\n",
    "}\n",
    "\n",
    "products"
   ]
  },
  {
   "cell_type": "markdown",
   "id": "4d2630c1-1a85-4f9f-bde2-14b646d82b72",
   "metadata": {},
   "source": [
    "## Question 4"
   ]
  },
  {
   "cell_type": "code",
   "execution_count": 25,
   "id": "fc939e6d-efae-4b42-973e-bf8fd158e07b",
   "metadata": {},
   "outputs": [
    {
     "data": {
      "text/plain": [
       "{'apple', 'banana', 'grape', 'orange'}"
      ]
     },
     "execution_count": 25,
     "metadata": {},
     "output_type": "execute_result"
    }
   ],
   "source": [
    "shopping_list = [\"apple\", \"banana\", \"apple\", \"orange\", \"banana\", \"grape\"]\n",
    "\n",
    "list_to_set = set(shopping_list)\n",
    "\n",
    "list_to_set"
   ]
  },
  {
   "cell_type": "markdown",
   "id": "4e41b209-afd1-49fa-aa6e-e3542eddc1b6",
   "metadata": {},
   "source": [
    "## Question 5"
   ]
  },
  {
   "cell_type": "code",
   "execution_count": 34,
   "id": "ab3dcd5b-0115-450b-b958-fff08d4686fb",
   "metadata": {},
   "outputs": [
    {
     "name": "stdout",
     "output_type": "stream",
     "text": [
      "Students in Course A but not in Course B: {'John', 'Bob'}\n",
      "Students only in one of the two courses: {'Bob', 'Charlie', 'John', 'Eve'}\n"
     ]
    }
   ],
   "source": [
    "course_a = {\"John\", \"Alice\", \"Bob\", \"David\"}\n",
    "course_b = {\"Alice\", \"Eve\", \"Charlie\", \"David\"}\n",
    "\n",
    "difference_a_b = course_a - course_b\n",
    "\n",
    "symmetric_difference = course_a ^ course_b\n",
    "\n",
    "print(\"Students in Course A but not in Course B:\", difference_a_b)\n",
    "print(\"Students only in one of the two courses:\", symmetric_difference)\n"
   ]
  },
  {
   "cell_type": "markdown",
   "id": "d0b12522-bf16-4e54-a1b6-94fbf04afffb",
   "metadata": {},
   "source": [
    "## Question 6"
   ]
  },
  {
   "cell_type": "code",
   "execution_count": 64,
   "id": "a2a1ad59-25df-4854-9d8b-f4343228fc8b",
   "metadata": {},
   "outputs": [
    {
     "name": "stdout",
     "output_type": "stream",
     "text": [
      "The sum of all even numbers between 1 and 50 is: 1250\n"
     ]
    }
   ],
   "source": [
    "sum_of_evens = 0\n",
    "\n",
    "for numbers in range(1, 51):\n",
    "    if numbers % 2 == 0:\n",
    "        sum_of_evens += number\n",
    "\n",
    "print(\"The sum of all even numbers between 1 and 50 is:\", sum_of_evens)\n",
    "\n"
   ]
  },
  {
   "cell_type": "markdown",
   "id": "784c23da-5955-4575-b6d8-c80e2d15bd33",
   "metadata": {},
   "source": [
    "## Question 7"
   ]
  },
  {
   "cell_type": "code",
   "execution_count": 50,
   "id": "2b82b490-7b3e-47a8-bd79-0ab04cb9ecbb",
   "metadata": {},
   "outputs": [
    {
     "name": "stdin",
     "output_type": "stream",
     "text": [
      "Enter a number between 1 and 10:  9\n"
     ]
    },
    {
     "name": "stdout",
     "output_type": "stream",
     "text": [
      "9 x 1 = 9\n",
      "9 x 2 = 18\n",
      "9 x 3 = 27\n",
      "9 x 4 = 36\n",
      "9 x 5 = 45\n",
      "9 x 6 = 54\n",
      "9 x 7 = 63\n",
      "9 x 8 = 72\n",
      "9 x 9 = 81\n",
      "9 x 10 = 90\n"
     ]
    }
   ],
   "source": [
    "num = int(input(\"Enter a number between 1 and 10: \"))\n",
    "\n",
    "if 1 <= num <= 10:\n",
    "    for i in range(1, 11):\n",
    "        product = num * i\n",
    "        print(f\"{num} x {i} = {product}\")\n",
    "else:\n",
    "    print(\"Please enter a number between 1 and 10.\")\n"
   ]
  },
  {
   "cell_type": "markdown",
   "id": "37ed3bcc-e0d9-472d-b285-a999c86518db",
   "metadata": {},
   "source": [
    "## Question 8"
   ]
  },
  {
   "cell_type": "code",
   "execution_count": 61,
   "id": "b41d2630-c645-4e96-b669-2350441d245a",
   "metadata": {},
   "outputs": [
    {
     "name": "stdin",
     "output_type": "stream",
     "text": [
      "Enter a number between 1 and 10:  2\n"
     ]
    },
    {
     "name": "stdout",
     "output_type": "stream",
     "text": [
      "2 ^ 1 = 2\n",
      "2 ^ 2 = 4\n",
      "2 ^ 3 = 8\n",
      "2 ^ 4 = 16\n",
      "2 ^ 5 = 32\n",
      "2 ^ 6 = 64\n",
      "2 ^ 7 = 128\n",
      "2 ^ 8 = 256\n",
      "2 ^ 9 = 512\n",
      "2 ^ 10 = 1024\n"
     ]
    }
   ],
   "source": [
    "numb = int(input(\"Enter a number between 1 and 10: \"))\n",
    "\n",
    "if 1 <= numb <= 10:\n",
    "    for i in range(1, 11):\n",
    "        prod = numb ** i\n",
    "        print(f\"{numb} ^ {i} = {prod}\")\n",
    "else:\n",
    "    print(\"Please enter a number between 1 and 10.\")"
   ]
  },
  {
   "cell_type": "markdown",
   "id": "cb9a3288-c7f7-446a-8e77-ffa095447139",
   "metadata": {},
   "source": [
    "## Question 9\n"
   ]
  },
  {
   "cell_type": "code",
   "execution_count": 96,
   "id": "9b424481-92bb-4313-ab9f-50954c47d649",
   "metadata": {},
   "outputs": [
    {
     "name": "stdin",
     "output_type": "stream",
     "text": [
      "Enter a number to start the countdown:  6\n"
     ]
    },
    {
     "name": "stdout",
     "output_type": "stream",
     "text": [
      "6\n",
      "5\n",
      "4\n",
      "3\n",
      "2\n",
      "1\n",
      "0\n",
      "Countdown Finished!\n"
     ]
    }
   ],
   "source": [
    "number = int(input(\"Enter a number to start the countdown: \"))\n",
    "\n",
    "if 1 <= number <= 30:\n",
    "    for i in range(number,-1,-1):\n",
    "        print(i)\n",
    "\n",
    "    print(\"Countdown Finished!\")\n",
    "else:\n",
    "    print(\"Please enter a number between 1 and 30.\")"
   ]
  },
  {
   "cell_type": "code",
   "execution_count": 104,
   "id": "c199d106-e7d0-44d8-8400-620807ccff68",
   "metadata": {},
   "outputs": [
    {
     "name": "stdin",
     "output_type": "stream",
     "text": [
      "Enter a number of stars you want:  33\n"
     ]
    },
    {
     "name": "stdout",
     "output_type": "stream",
     "text": [
      "*\n",
      "**\n",
      "***\n",
      "****\n",
      "*****\n",
      "******\n",
      "*******\n",
      "********\n",
      "*********\n",
      "**********\n",
      "***********\n",
      "************\n",
      "*************\n",
      "**************\n",
      "***************\n",
      "****************\n",
      "*****************\n",
      "******************\n",
      "*******************\n",
      "********************\n",
      "*********************\n",
      "**********************\n",
      "***********************\n",
      "************************\n",
      "*************************\n",
      "**************************\n",
      "***************************\n",
      "****************************\n",
      "*****************************\n",
      "******************************\n",
      "*******************************\n",
      "********************************\n",
      "*********************************\n"
     ]
    }
   ],
   "source": [
    "n = int(input(\"Enter a number of stars you want: \"))\n",
    "\n",
    "for i in range(1, n + 1):\n",
    "    print(\"*\" * i)"
   ]
  },
  {
   "cell_type": "code",
   "execution_count": null,
   "id": "8b47f863-488c-44cf-abda-0d0b19295296",
   "metadata": {},
   "outputs": [],
   "source": []
  }
 ],
 "metadata": {
  "kernelspec": {
   "display_name": "Python 3 (ipykernel)",
   "language": "python",
   "name": "python3"
  },
  "language_info": {
   "codemirror_mode": {
    "name": "ipython",
    "version": 3
   },
   "file_extension": ".py",
   "mimetype": "text/x-python",
   "name": "python",
   "nbconvert_exporter": "python",
   "pygments_lexer": "ipython3",
   "version": "3.12.7"
  }
 },
 "nbformat": 4,
 "nbformat_minor": 5
}
