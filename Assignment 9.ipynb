{
 "cells": [
  {
   "cell_type": "code",
   "execution_count": 1,
   "id": "2688e5dd-4758-4419-84b4-751e0a55dd26",
   "metadata": {},
   "outputs": [],
   "source": [
    "import sqlite3 as sql\n",
    "import pandas as pd\n",
    "import matplotlib.pyplot as plt"
   ]
  },
  {
   "cell_type": "code",
   "execution_count": 2,
   "id": "9bf165a9-c9eb-4260-8220-745dc583d5c0",
   "metadata": {},
   "outputs": [
    {
     "data": {
      "text/plain": [
       "<sqlite3.Connection at 0x15337b64d60>"
      ]
     },
     "execution_count": 2,
     "metadata": {},
     "output_type": "execute_result"
    }
   ],
   "source": [
    "conn = sql.connect('database.sqlite')\n",
    "conn"
   ]
  },
  {
   "cell_type": "code",
   "execution_count": 3,
   "id": "d225d3ff-f591-423d-af6c-c55453a9b789",
   "metadata": {},
   "outputs": [],
   "source": [
    "df = pd.read_sql_query(\"select * from salaries\", conn)"
   ]
  },
  {
   "cell_type": "code",
   "execution_count": 4,
   "id": "81685edc-03dc-442e-b14c-69dae5e169e4",
   "metadata": {},
   "outputs": [
    {
     "data": {
      "text/html": [
       "<div>\n",
       "<style scoped>\n",
       "    .dataframe tbody tr th:only-of-type {\n",
       "        vertical-align: middle;\n",
       "    }\n",
       "\n",
       "    .dataframe tbody tr th {\n",
       "        vertical-align: top;\n",
       "    }\n",
       "\n",
       "    .dataframe thead th {\n",
       "        text-align: right;\n",
       "    }\n",
       "</style>\n",
       "<table border=\"1\" class=\"dataframe\">\n",
       "  <thead>\n",
       "    <tr style=\"text-align: right;\">\n",
       "      <th></th>\n",
       "      <th>Id</th>\n",
       "      <th>EmployeeName</th>\n",
       "      <th>JobTitle</th>\n",
       "      <th>BasePay</th>\n",
       "      <th>OvertimePay</th>\n",
       "      <th>OtherPay</th>\n",
       "      <th>Benefits</th>\n",
       "      <th>TotalPay</th>\n",
       "      <th>TotalPayBenefits</th>\n",
       "      <th>Year</th>\n",
       "      <th>Notes</th>\n",
       "      <th>Agency</th>\n",
       "      <th>Status</th>\n",
       "    </tr>\n",
       "  </thead>\n",
       "  <tbody>\n",
       "    <tr>\n",
       "      <th>0</th>\n",
       "      <td>1</td>\n",
       "      <td>NATHANIEL FORD</td>\n",
       "      <td>GENERAL MANAGER-METROPOLITAN TRANSIT AUTHORITY</td>\n",
       "      <td>167411.18</td>\n",
       "      <td>0</td>\n",
       "      <td>400184.25</td>\n",
       "      <td></td>\n",
       "      <td>567595.43</td>\n",
       "      <td>567595.43</td>\n",
       "      <td>2011</td>\n",
       "      <td></td>\n",
       "      <td>San Francisco</td>\n",
       "      <td></td>\n",
       "    </tr>\n",
       "    <tr>\n",
       "      <th>1</th>\n",
       "      <td>2</td>\n",
       "      <td>GARY JIMENEZ</td>\n",
       "      <td>CAPTAIN III (POLICE DEPARTMENT)</td>\n",
       "      <td>155966.02</td>\n",
       "      <td>245131.88</td>\n",
       "      <td>137811.38</td>\n",
       "      <td></td>\n",
       "      <td>538909.28</td>\n",
       "      <td>538909.28</td>\n",
       "      <td>2011</td>\n",
       "      <td></td>\n",
       "      <td>San Francisco</td>\n",
       "      <td></td>\n",
       "    </tr>\n",
       "    <tr>\n",
       "      <th>2</th>\n",
       "      <td>3</td>\n",
       "      <td>ALBERT PARDINI</td>\n",
       "      <td>CAPTAIN III (POLICE DEPARTMENT)</td>\n",
       "      <td>212739.13</td>\n",
       "      <td>106088.18</td>\n",
       "      <td>16452.6</td>\n",
       "      <td></td>\n",
       "      <td>335279.91</td>\n",
       "      <td>335279.91</td>\n",
       "      <td>2011</td>\n",
       "      <td></td>\n",
       "      <td>San Francisco</td>\n",
       "      <td></td>\n",
       "    </tr>\n",
       "    <tr>\n",
       "      <th>3</th>\n",
       "      <td>4</td>\n",
       "      <td>CHRISTOPHER CHONG</td>\n",
       "      <td>WIRE ROPE CABLE MAINTENANCE MECHANIC</td>\n",
       "      <td>77916</td>\n",
       "      <td>56120.71</td>\n",
       "      <td>198306.9</td>\n",
       "      <td></td>\n",
       "      <td>332343.61</td>\n",
       "      <td>332343.61</td>\n",
       "      <td>2011</td>\n",
       "      <td></td>\n",
       "      <td>San Francisco</td>\n",
       "      <td></td>\n",
       "    </tr>\n",
       "    <tr>\n",
       "      <th>4</th>\n",
       "      <td>5</td>\n",
       "      <td>PATRICK GARDNER</td>\n",
       "      <td>DEPUTY CHIEF OF DEPARTMENT,(FIRE DEPARTMENT)</td>\n",
       "      <td>134401.6</td>\n",
       "      <td>9737</td>\n",
       "      <td>182234.59</td>\n",
       "      <td></td>\n",
       "      <td>326373.19</td>\n",
       "      <td>326373.19</td>\n",
       "      <td>2011</td>\n",
       "      <td></td>\n",
       "      <td>San Francisco</td>\n",
       "      <td></td>\n",
       "    </tr>\n",
       "    <tr>\n",
       "      <th>...</th>\n",
       "      <td>...</td>\n",
       "      <td>...</td>\n",
       "      <td>...</td>\n",
       "      <td>...</td>\n",
       "      <td>...</td>\n",
       "      <td>...</td>\n",
       "      <td>...</td>\n",
       "      <td>...</td>\n",
       "      <td>...</td>\n",
       "      <td>...</td>\n",
       "      <td>...</td>\n",
       "      <td>...</td>\n",
       "      <td>...</td>\n",
       "    </tr>\n",
       "    <tr>\n",
       "      <th>148649</th>\n",
       "      <td>148650</td>\n",
       "      <td>Roy I Tillery</td>\n",
       "      <td>Custodian</td>\n",
       "      <td>0</td>\n",
       "      <td>0</td>\n",
       "      <td>0</td>\n",
       "      <td>0</td>\n",
       "      <td>0.00</td>\n",
       "      <td>0.00</td>\n",
       "      <td>2014</td>\n",
       "      <td></td>\n",
       "      <td>San Francisco</td>\n",
       "      <td>PT</td>\n",
       "    </tr>\n",
       "    <tr>\n",
       "      <th>148650</th>\n",
       "      <td>148651</td>\n",
       "      <td>Not provided</td>\n",
       "      <td>Not provided</td>\n",
       "      <td>Not Provided</td>\n",
       "      <td>Not Provided</td>\n",
       "      <td>Not Provided</td>\n",
       "      <td>Not Provided</td>\n",
       "      <td>0.00</td>\n",
       "      <td>0.00</td>\n",
       "      <td>2014</td>\n",
       "      <td></td>\n",
       "      <td>San Francisco</td>\n",
       "      <td></td>\n",
       "    </tr>\n",
       "    <tr>\n",
       "      <th>148651</th>\n",
       "      <td>148652</td>\n",
       "      <td>Not provided</td>\n",
       "      <td>Not provided</td>\n",
       "      <td>Not Provided</td>\n",
       "      <td>Not Provided</td>\n",
       "      <td>Not Provided</td>\n",
       "      <td>Not Provided</td>\n",
       "      <td>0.00</td>\n",
       "      <td>0.00</td>\n",
       "      <td>2014</td>\n",
       "      <td></td>\n",
       "      <td>San Francisco</td>\n",
       "      <td></td>\n",
       "    </tr>\n",
       "    <tr>\n",
       "      <th>148652</th>\n",
       "      <td>148653</td>\n",
       "      <td>Not provided</td>\n",
       "      <td>Not provided</td>\n",
       "      <td>Not Provided</td>\n",
       "      <td>Not Provided</td>\n",
       "      <td>Not Provided</td>\n",
       "      <td>Not Provided</td>\n",
       "      <td>0.00</td>\n",
       "      <td>0.00</td>\n",
       "      <td>2014</td>\n",
       "      <td></td>\n",
       "      <td>San Francisco</td>\n",
       "      <td></td>\n",
       "    </tr>\n",
       "    <tr>\n",
       "      <th>148653</th>\n",
       "      <td>148654</td>\n",
       "      <td>Joe Lopez</td>\n",
       "      <td>Counselor, Log Cabin Ranch</td>\n",
       "      <td>0</td>\n",
       "      <td>0</td>\n",
       "      <td>-618.13</td>\n",
       "      <td>0</td>\n",
       "      <td>-618.13</td>\n",
       "      <td>-618.13</td>\n",
       "      <td>2014</td>\n",
       "      <td></td>\n",
       "      <td>San Francisco</td>\n",
       "      <td>PT</td>\n",
       "    </tr>\n",
       "  </tbody>\n",
       "</table>\n",
       "<p>148654 rows × 13 columns</p>\n",
       "</div>"
      ],
      "text/plain": [
       "            Id       EmployeeName  \\\n",
       "0            1     NATHANIEL FORD   \n",
       "1            2       GARY JIMENEZ   \n",
       "2            3     ALBERT PARDINI   \n",
       "3            4  CHRISTOPHER CHONG   \n",
       "4            5    PATRICK GARDNER   \n",
       "...        ...                ...   \n",
       "148649  148650      Roy I Tillery   \n",
       "148650  148651       Not provided   \n",
       "148651  148652       Not provided   \n",
       "148652  148653       Not provided   \n",
       "148653  148654          Joe Lopez   \n",
       "\n",
       "                                              JobTitle       BasePay  \\\n",
       "0       GENERAL MANAGER-METROPOLITAN TRANSIT AUTHORITY     167411.18   \n",
       "1                      CAPTAIN III (POLICE DEPARTMENT)     155966.02   \n",
       "2                      CAPTAIN III (POLICE DEPARTMENT)     212739.13   \n",
       "3                 WIRE ROPE CABLE MAINTENANCE MECHANIC         77916   \n",
       "4         DEPUTY CHIEF OF DEPARTMENT,(FIRE DEPARTMENT)      134401.6   \n",
       "...                                                ...           ...   \n",
       "148649                                       Custodian             0   \n",
       "148650                                    Not provided  Not Provided   \n",
       "148651                                    Not provided  Not Provided   \n",
       "148652                                    Not provided  Not Provided   \n",
       "148653                      Counselor, Log Cabin Ranch             0   \n",
       "\n",
       "         OvertimePay      OtherPay      Benefits   TotalPay  TotalPayBenefits  \\\n",
       "0                  0     400184.25                567595.43         567595.43   \n",
       "1          245131.88     137811.38                538909.28         538909.28   \n",
       "2          106088.18       16452.6                335279.91         335279.91   \n",
       "3           56120.71      198306.9                332343.61         332343.61   \n",
       "4               9737     182234.59                326373.19         326373.19   \n",
       "...              ...           ...           ...        ...               ...   \n",
       "148649             0             0             0       0.00              0.00   \n",
       "148650  Not Provided  Not Provided  Not Provided       0.00              0.00   \n",
       "148651  Not Provided  Not Provided  Not Provided       0.00              0.00   \n",
       "148652  Not Provided  Not Provided  Not Provided       0.00              0.00   \n",
       "148653             0       -618.13             0    -618.13           -618.13   \n",
       "\n",
       "        Year Notes         Agency Status  \n",
       "0       2011        San Francisco         \n",
       "1       2011        San Francisco         \n",
       "2       2011        San Francisco         \n",
       "3       2011        San Francisco         \n",
       "4       2011        San Francisco         \n",
       "...      ...   ...            ...    ...  \n",
       "148649  2014        San Francisco     PT  \n",
       "148650  2014        San Francisco         \n",
       "148651  2014        San Francisco         \n",
       "148652  2014        San Francisco         \n",
       "148653  2014        San Francisco     PT  \n",
       "\n",
       "[148654 rows x 13 columns]"
      ]
     },
     "execution_count": 4,
     "metadata": {},
     "output_type": "execute_result"
    }
   ],
   "source": [
    "df"
   ]
  },
  {
   "cell_type": "markdown",
   "id": "5d262744-a7ce-4441-8247-d3e5096337c1",
   "metadata": {},
   "source": [
    "## Q1: What is the average TotalPayBenefits for each JobTitle? exclude ('Not Provided', 'Not provided')"
   ]
  },
  {
   "cell_type": "code",
   "execution_count": 5,
   "id": "8c54402d-985c-43e6-a429-19b664899b8d",
   "metadata": {},
   "outputs": [],
   "source": [
    "df_filtered = df[~df['JobTitle'].isin(['Not Provided', 'Not provided'])]\n",
    "\n",
    "avg_totalpaybenefits_by_jobtitle = df_filtered.groupby('JobTitle')['TotalPayBenefits'].mean()\n"
   ]
  },
  {
   "cell_type": "code",
   "execution_count": 6,
   "id": "d35670dc-b45f-4c96-9c82-9c50a53cfbb1",
   "metadata": {},
   "outputs": [
    {
     "data": {
      "text/plain": [
       "JobTitle\n",
       "ACCOUNT CLERK                                     44035.664337\n",
       "ACCOUNTANT                                        47429.268000\n",
       "ACCOUNTANT INTERN                                 29031.742917\n",
       "ACPO,JuvP, Juv Prob (SFERS)                       80266.370000\n",
       "ACUPUNCTURIST                                     67594.400000\n",
       "                                                      ...     \n",
       "X-RAY LABORATORY AIDE                             52705.880385\n",
       "X-Ray Laboratory Aide                             69521.123200\n",
       "YOUTH COMMISSION ADVISOR, BOARD OF SUPERVISORS    53632.870000\n",
       "Youth Comm Advisor                                60118.550000\n",
       "ZOO CURATOR                                       66686.560000\n",
       "Name: TotalPayBenefits, Length: 2158, dtype: float64"
      ]
     },
     "execution_count": 6,
     "metadata": {},
     "output_type": "execute_result"
    }
   ],
   "source": [
    "avg_totalpaybenefits_by_jobtitle"
   ]
  },
  {
   "cell_type": "markdown",
   "id": "f3101d70-deaf-4773-9323-9564d5130eb2",
   "metadata": {},
   "source": [
    "## Q2: Which JobTitle has the most employees in each year? exclude ('Not Provided', 'Not provided')"
   ]
  },
  {
   "cell_type": "code",
   "execution_count": 7,
   "id": "51339ffc-8040-4984-82f5-488295f2d834",
   "metadata": {},
   "outputs": [
    {
     "name": "stdout",
     "output_type": "stream",
     "text": [
      "Year: 2011, JobTitle: TRANSIT OPERATOR, EmployeeCount: JobTitle\n",
      "TRANSIT OPERATOR    2388\n",
      "dtype: int64\n",
      "Year: 2012, JobTitle: Transit Operator, EmployeeCount: JobTitle\n",
      "Transit Operator    2262\n",
      "dtype: int64\n",
      "Year: 2013, JobTitle: Transit Operator, EmployeeCount: JobTitle\n",
      "Transit Operator    2295\n",
      "dtype: int64\n",
      "Year: 2014, JobTitle: Transit Operator, EmployeeCount: JobTitle\n",
      "Transit Operator    2479\n",
      "dtype: int64\n"
     ]
    }
   ],
   "source": [
    "df_filtered = df[~df['JobTitle'].isin(['Not Provided', 'Not provided'])]\n",
    "\n",
    "employee_counts = df_filtered.groupby(['Year', 'JobTitle']).size()\n",
    "\n",
    "most_employees_per_year = employee_counts.groupby('Year').idxmax()\n",
    "\n",
    "most_employees_count = employee_counts[most_employees_per_year]\n",
    "\n",
    "for year in most_employees_per_year.index:\n",
    "    jobtitle = most_employees_per_year[year][1]\n",
    "    count = most_employees_count[year]\n",
    "    print(f\"Year: {year}, JobTitle: {jobtitle}, EmployeeCount: {count}\")"
   ]
  },
  {
   "cell_type": "markdown",
   "id": "e5dca899-05db-4208-8add-01bde8242d32",
   "metadata": {},
   "source": [
    "## Q3: What is the total number of unique employees? exclude ('Not Provided', 'Not provided')"
   ]
  },
  {
   "cell_type": "code",
   "execution_count": 8,
   "id": "952dd4a4-c123-4b7c-aafd-bcca0e555628",
   "metadata": {},
   "outputs": [
    {
     "name": "stdout",
     "output_type": "stream",
     "text": [
      "Total number of unique employees: 110809\n"
     ]
    }
   ],
   "source": [
    "df_filtered = df[~df['EmployeeName'].isin(['Not Provided', 'Not provided'])]\n",
    "\n",
    "unique_employees_count = df_filtered['EmployeeName'].nunique()\n",
    "\n",
    "print(f\"Total number of unique employees: {unique_employees_count}\")"
   ]
  },
  {
   "cell_type": "markdown",
   "id": "aefbf98f-9f73-4078-b5a4-3001bbea88b3",
   "metadata": {},
   "source": [
    "## Q4: Show All Employees Ordered By Their TotalPayBenefits In Descending Order? exclude ('Not Provided', 'Not provided')"
   ]
  },
  {
   "cell_type": "code",
   "execution_count": 9,
   "id": "bdb5f6db-c609-4a68-bb4a-c3e1e35a7ec0",
   "metadata": {},
   "outputs": [
    {
     "data": {
      "text/html": [
       "<div>\n",
       "<style scoped>\n",
       "    .dataframe tbody tr th:only-of-type {\n",
       "        vertical-align: middle;\n",
       "    }\n",
       "\n",
       "    .dataframe tbody tr th {\n",
       "        vertical-align: top;\n",
       "    }\n",
       "\n",
       "    .dataframe thead th {\n",
       "        text-align: right;\n",
       "    }\n",
       "</style>\n",
       "<table border=\"1\" class=\"dataframe\">\n",
       "  <thead>\n",
       "    <tr style=\"text-align: right;\">\n",
       "      <th></th>\n",
       "      <th>EmployeeName</th>\n",
       "      <th>JobTitle</th>\n",
       "      <th>TotalPayBenefits</th>\n",
       "    </tr>\n",
       "  </thead>\n",
       "  <tbody>\n",
       "    <tr>\n",
       "      <th>0</th>\n",
       "      <td>NATHANIEL FORD</td>\n",
       "      <td>GENERAL MANAGER-METROPOLITAN TRANSIT AUTHORITY</td>\n",
       "      <td>567595.43</td>\n",
       "    </tr>\n",
       "    <tr>\n",
       "      <th>1</th>\n",
       "      <td>GARY JIMENEZ</td>\n",
       "      <td>CAPTAIN III (POLICE DEPARTMENT)</td>\n",
       "      <td>538909.28</td>\n",
       "    </tr>\n",
       "    <tr>\n",
       "      <th>110531</th>\n",
       "      <td>David Shinn</td>\n",
       "      <td>Deputy Chief 3</td>\n",
       "      <td>510732.68</td>\n",
       "    </tr>\n",
       "    <tr>\n",
       "      <th>110532</th>\n",
       "      <td>Amy P Hart</td>\n",
       "      <td>Asst Med Examiner</td>\n",
       "      <td>479652.21</td>\n",
       "    </tr>\n",
       "    <tr>\n",
       "      <th>110533</th>\n",
       "      <td>William J Coaker Jr.</td>\n",
       "      <td>Chief Investment Officer</td>\n",
       "      <td>436224.36</td>\n",
       "    </tr>\n",
       "    <tr>\n",
       "      <th>...</th>\n",
       "      <td>...</td>\n",
       "      <td>...</td>\n",
       "      <td>...</td>\n",
       "    </tr>\n",
       "    <tr>\n",
       "      <th>36156</th>\n",
       "      <td>PAULETTE ADAMS</td>\n",
       "      <td>STATIONARY ENGINEER, WATER TREATMENT PLANT</td>\n",
       "      <td>0.00</td>\n",
       "    </tr>\n",
       "    <tr>\n",
       "      <th>110528</th>\n",
       "      <td>Timothy E Gibson</td>\n",
       "      <td>Police Officer 3</td>\n",
       "      <td>-2.73</td>\n",
       "    </tr>\n",
       "    <tr>\n",
       "      <th>110529</th>\n",
       "      <td>Mark E Laherty</td>\n",
       "      <td>Police Officer 3</td>\n",
       "      <td>-8.20</td>\n",
       "    </tr>\n",
       "    <tr>\n",
       "      <th>110530</th>\n",
       "      <td>David P Kucia</td>\n",
       "      <td>Police Officer 3</td>\n",
       "      <td>-33.89</td>\n",
       "    </tr>\n",
       "    <tr>\n",
       "      <th>148653</th>\n",
       "      <td>Joe Lopez</td>\n",
       "      <td>Counselor, Log Cabin Ranch</td>\n",
       "      <td>-618.13</td>\n",
       "    </tr>\n",
       "  </tbody>\n",
       "</table>\n",
       "<p>148650 rows × 3 columns</p>\n",
       "</div>"
      ],
      "text/plain": [
       "                EmployeeName                                        JobTitle  \\\n",
       "0             NATHANIEL FORD  GENERAL MANAGER-METROPOLITAN TRANSIT AUTHORITY   \n",
       "1               GARY JIMENEZ                 CAPTAIN III (POLICE DEPARTMENT)   \n",
       "110531           David Shinn                                  Deputy Chief 3   \n",
       "110532            Amy P Hart                               Asst Med Examiner   \n",
       "110533  William J Coaker Jr.                        Chief Investment Officer   \n",
       "...                      ...                                             ...   \n",
       "36156         PAULETTE ADAMS      STATIONARY ENGINEER, WATER TREATMENT PLANT   \n",
       "110528      Timothy E Gibson                                Police Officer 3   \n",
       "110529        Mark E Laherty                                Police Officer 3   \n",
       "110530         David P Kucia                                Police Officer 3   \n",
       "148653             Joe Lopez                      Counselor, Log Cabin Ranch   \n",
       "\n",
       "        TotalPayBenefits  \n",
       "0              567595.43  \n",
       "1              538909.28  \n",
       "110531         510732.68  \n",
       "110532         479652.21  \n",
       "110533         436224.36  \n",
       "...                  ...  \n",
       "36156               0.00  \n",
       "110528             -2.73  \n",
       "110529             -8.20  \n",
       "110530            -33.89  \n",
       "148653           -618.13  \n",
       "\n",
       "[148650 rows x 3 columns]"
      ]
     },
     "execution_count": 9,
     "metadata": {},
     "output_type": "execute_result"
    }
   ],
   "source": [
    "df_filtered = df[~df['JobTitle'].isin(['Not Provided', 'Not provided'])]\n",
    "\n",
    "df_sorted = df_filtered.sort_values(by='TotalPayBenefits', ascending=False)\n",
    "\n",
    "df_sorted[['EmployeeName', 'JobTitle', 'TotalPayBenefits']]"
   ]
  },
  {
   "cell_type": "markdown",
   "id": "1558b634-fae4-46b1-9493-1a7a9852375b",
   "metadata": {},
   "source": [
    "## Q5: Show All Employees With A TotalPaybenefits Value Between 125,000 and 150,000 And A Job Title 'Firefighter'? exclude ('Not Provided', 'Not provided')"
   ]
  },
  {
   "cell_type": "code",
   "execution_count": 10,
   "id": "a49e6525-493d-4c23-91a1-eeff8d61794b",
   "metadata": {},
   "outputs": [
    {
     "data": {
      "text/html": [
       "<div>\n",
       "<style scoped>\n",
       "    .dataframe tbody tr th:only-of-type {\n",
       "        vertical-align: middle;\n",
       "    }\n",
       "\n",
       "    .dataframe tbody tr th {\n",
       "        vertical-align: top;\n",
       "    }\n",
       "\n",
       "    .dataframe thead th {\n",
       "        text-align: right;\n",
       "    }\n",
       "</style>\n",
       "<table border=\"1\" class=\"dataframe\">\n",
       "  <thead>\n",
       "    <tr style=\"text-align: right;\">\n",
       "      <th></th>\n",
       "      <th>EmployeeName</th>\n",
       "      <th>JobTitle</th>\n",
       "      <th>TotalPayBenefits</th>\n",
       "    </tr>\n",
       "  </thead>\n",
       "  <tbody>\n",
       "    <tr>\n",
       "      <th>44539</th>\n",
       "      <td>Randall Henderson</td>\n",
       "      <td>Firefighter</td>\n",
       "      <td>147912.75</td>\n",
       "    </tr>\n",
       "    <tr>\n",
       "      <th>44553</th>\n",
       "      <td>Virginia Cheung</td>\n",
       "      <td>Firefighter</td>\n",
       "      <td>147862.14</td>\n",
       "    </tr>\n",
       "    <tr>\n",
       "      <th>44576</th>\n",
       "      <td>Travis Hemenez</td>\n",
       "      <td>Firefighter</td>\n",
       "      <td>147664.12</td>\n",
       "    </tr>\n",
       "    <tr>\n",
       "      <th>44614</th>\n",
       "      <td>Gail Readdie</td>\n",
       "      <td>Firefighter</td>\n",
       "      <td>147452.17</td>\n",
       "    </tr>\n",
       "    <tr>\n",
       "      <th>44649</th>\n",
       "      <td>Gregory Ginotti</td>\n",
       "      <td>Firefighter</td>\n",
       "      <td>147216.47</td>\n",
       "    </tr>\n",
       "    <tr>\n",
       "      <th>...</th>\n",
       "      <td>...</td>\n",
       "      <td>...</td>\n",
       "      <td>...</td>\n",
       "    </tr>\n",
       "    <tr>\n",
       "      <th>123133</th>\n",
       "      <td>Stephen J Kloster</td>\n",
       "      <td>Firefighter</td>\n",
       "      <td>126784.13</td>\n",
       "    </tr>\n",
       "    <tr>\n",
       "      <th>123149</th>\n",
       "      <td>Jeffrey D Ryan</td>\n",
       "      <td>Firefighter</td>\n",
       "      <td>126687.13</td>\n",
       "    </tr>\n",
       "    <tr>\n",
       "      <th>123238</th>\n",
       "      <td>Jovan R Blake</td>\n",
       "      <td>Firefighter</td>\n",
       "      <td>126169.62</td>\n",
       "    </tr>\n",
       "    <tr>\n",
       "      <th>123340</th>\n",
       "      <td>Dino M Cafferata</td>\n",
       "      <td>Firefighter</td>\n",
       "      <td>125680.52</td>\n",
       "    </tr>\n",
       "    <tr>\n",
       "      <th>123440</th>\n",
       "      <td>Jason V Cannata</td>\n",
       "      <td>Firefighter</td>\n",
       "      <td>125218.12</td>\n",
       "    </tr>\n",
       "  </tbody>\n",
       "</table>\n",
       "<p>115 rows × 3 columns</p>\n",
       "</div>"
      ],
      "text/plain": [
       "             EmployeeName     JobTitle  TotalPayBenefits\n",
       "44539   Randall Henderson  Firefighter         147912.75\n",
       "44553     Virginia Cheung  Firefighter         147862.14\n",
       "44576      Travis Hemenez  Firefighter         147664.12\n",
       "44614        Gail Readdie  Firefighter         147452.17\n",
       "44649     Gregory Ginotti  Firefighter         147216.47\n",
       "...                   ...          ...               ...\n",
       "123133  Stephen J Kloster  Firefighter         126784.13\n",
       "123149     Jeffrey D Ryan  Firefighter         126687.13\n",
       "123238      Jovan R Blake  Firefighter         126169.62\n",
       "123340   Dino M Cafferata  Firefighter         125680.52\n",
       "123440    Jason V Cannata  Firefighter         125218.12\n",
       "\n",
       "[115 rows x 3 columns]"
      ]
     },
     "execution_count": 10,
     "metadata": {},
     "output_type": "execute_result"
    }
   ],
   "source": [
    "df_filtered = df[~df['JobTitle'].isin(['Not Provided', 'Not provided'])]\n",
    "\n",
    "df_filtered_firefighter = df_filtered[\n",
    "    (df_filtered['TotalPayBenefits'] >= 125000) &\n",
    "    (df_filtered['TotalPayBenefits'] <= 150000) &\n",
    "    (df_filtered['JobTitle'] == 'Firefighter')\n",
    "]\n",
    "df_filtered_firefighter[['EmployeeName', 'JobTitle', 'TotalPayBenefits']]"
   ]
  },
  {
   "cell_type": "markdown",
   "id": "3ac1f600-55e0-483f-91e0-e864190dcf08",
   "metadata": {},
   "source": [
    "## Q6: How many employees have no overtime pay or other pay? exclude ('Not Provided', 'Not provided')"
   ]
  },
  {
   "cell_type": "code",
   "execution_count": 11,
   "id": "23da6065-9c64-45a2-8691-2dd2e4ba94b9",
   "metadata": {},
   "outputs": [
    {
     "name": "stdout",
     "output_type": "stream",
     "text": [
      "Number of employees with no OvertimePay or OtherPay: 34655\n"
     ]
    }
   ],
   "source": [
    "df_filtered = df[~df['JobTitle'].isin(['Not Provided', 'Not provided'])]\n",
    "\n",
    "df_no_overtime_otherpay = df_filtered[(df_filtered['OvertimePay'] == 0) & (df_filtered['OtherPay'] == 0)]\n",
    "\n",
    "no_overtime_otherpay_count = df_no_overtime_otherpay.shape[0]\n",
    "\n",
    "print(f\"Number of employees with no OvertimePay or OtherPay: {no_overtime_otherpay_count}\")"
   ]
  },
  {
   "cell_type": "markdown",
   "id": "c54171ed-77e2-4fd7-bdce-6bffddcadf27",
   "metadata": {},
   "source": [
    "## Q7: Show top 10 employees having (overtimepay+OtherPay) in bar plot?  exclude ('Not Provided', 'Not provided')"
   ]
  },
  {
   "cell_type": "code",
   "execution_count": 12,
   "id": "178b3e16-cccf-42f9-b02a-5f4c5b83639e",
   "metadata": {},
   "outputs": [
    {
     "data": {
      "image/png": "[encoded data removed]",
      "text/plain": [
       "<Figure size 1000x600 with 1 Axes>"
      ]
     },
     "metadata": {},
     "output_type": "display_data"
    }
   ],
   "source": [
    "df_filtered = df[~df['JobTitle'].isin(['Not Provided', 'Not provided'])].copy()\n",
    "\n",
    "df_filtered.loc[:, 'OvertimeOtherPaySum'] = df_filtered['OvertimePay'] + df_filtered['OtherPay']\n",
    "\n",
    "top_10_employees = df_filtered.sort_values(by='OvertimeOtherPaySum', ascending=False).head(10)\n",
    "\n",
    "plt.figure(figsize=(10, 6))\n",
    "plt.barh(top_10_employees['EmployeeName'], top_10_employees['OvertimeOtherPaySum'], color='skyblue')\n",
    "plt.xlabel('OvertimePay + OtherPay')\n",
    "plt.ylabel('Employee Name')\n",
    "plt.title('Top 10 Employees by OvertimePay + OtherPay')\n",
    "plt.gca().invert_yaxis()  \n",
    "plt.show()"
   ]
  },
  {
   "cell_type": "markdown",
   "id": "0659a4e0-6d42-43e5-a7d5-c8e1e519bde9",
   "metadata": {},
   "source": [
    "## Q8: Show The Average of BasePay, OverTime, OtherPay for all employees in pie chart? exclude ('Not Provided', 'Not provided')"
   ]
  },
  {
   "cell_type": "code",
   "execution_count": 13,
   "id": "c13507ff-46cd-49b6-b322-c73f569fcd5d",
   "metadata": {},
   "outputs": [
    {
     "data": {
      "image/png": "[encoded data removed]",
      "text/plain": [
       "<Figure size 700x700 with 1 Axes>"
      ]
     },
     "metadata": {},
     "output_type": "display_data"
    }
   ],
   "source": [
    "df_filtered = df[~df['JobTitle'].isin(['Not Provided', 'Not provided'])].copy()\n",
    "\n",
    "df_filtered['BasePay'] = pd.to_numeric(df_filtered['BasePay'], errors='coerce')\n",
    "df_filtered['OvertimePay'] = pd.to_numeric(df_filtered['OvertimePay'], errors='coerce')\n",
    "df_filtered['OtherPay'] = pd.to_numeric(df_filtered['OtherPay'], errors='coerce')\n",
    "\n",
    "average_basepay = df_filtered['BasePay'].mean()\n",
    "average_overtimepay = df_filtered['OvertimePay'].mean()\n",
    "average_otherpay = df_filtered['OtherPay'].mean()\n",
    "\n",
    "averages = [average_basepay, average_overtimepay, average_otherpay]\n",
    "labels = ['BasePay', 'OvertimePay', 'OtherPay']\n",
    "\n",
    "plt.figure(figsize=(7, 7))\n",
    "plt.pie(averages, labels=labels, autopct='%1.1f%%', startangle=140, colors=['#ff9999','#66b3ff','#99ff99'])\n",
    "plt.title('Average of BasePay, OvertimePay, and OtherPay for All Employees')\n",
    "plt.axis('equal')  # Equal aspect ratio ensures that pie chart is drawn as a circle.\n",
    "plt.show()\n"
   ]
  },
  {
   "cell_type": "markdown",
   "id": "3ee8612b-f73d-4a71-9028-19dc4343c31f",
   "metadata": {},
   "source": [
    "## Q9: Get the average TotalPayBenefits for each JobTitle, but only for those with an average pay greater than 75000? exclude ('Not Provided', 'Not provided')"
   ]
  },
  {
   "cell_type": "code",
   "execution_count": 14,
   "id": "62d32238-b8c5-4c59-8fc4-f449add38e78",
   "metadata": {},
   "outputs": [
    {
     "name": "stdout",
     "output_type": "stream",
     "text": [
      "JobTitle\n",
      "ACPO,JuvP, Juv Prob (SFERS)            80266.370000\n",
      "ADMINISTRATIVE ANALYST III             92698.515000\n",
      "ADMINISTRATIVE ENGINEER               127961.430000\n",
      "ADMINISTRATIVE SERVICES MANAGER        77015.580000\n",
      "ADMINISTRATOR, SFGH MEDICAL CENTER    257124.440000\n",
      "                                          ...      \n",
      "Window Cleaner Supervisor             108550.543333\n",
      "Wire Rope Cable Maint Mechanic        138837.434333\n",
      "Wire Rope Cable Maint Sprv            242118.323333\n",
      "Worker's Comp Supervisor 1             96125.531429\n",
      "Worker's Compensation Adjuster        101321.425811\n",
      "Name: TotalPayBenefits, Length: 1437, dtype: float64\n"
     ]
    }
   ],
   "source": [
    "df_filtered = df[~df['JobTitle'].isin(['Not Provided', 'Not provided'])]\n",
    "\n",
    "average_totalpaybenefits = df_filtered.groupby('JobTitle')['TotalPayBenefits'].mean()\n",
    "\n",
    "filtered_job_titles = average_totalpaybenefits[average_totalpaybenefits > 75000]\n",
    "\n",
    "\n",
    "print(filtered_job_titles)"
   ]
  },
  {
   "cell_type": "markdown",
   "id": "ed9c8208-f456-4795-8802-2344e96370a3",
   "metadata": {},
   "source": [
    "## Q10: Get the number of employees (EmployeeName) for each JobTitle, where the count is greater than 10?  exclude ('Not Provided', 'Not provided')"
   ]
  },
  {
   "cell_type": "code",
   "execution_count": 15,
   "id": "74df54e3-6242-4fa0-b6ab-7b115365ce1c",
   "metadata": {},
   "outputs": [
    {
     "name": "stdout",
     "output_type": "stream",
     "text": [
      "JobTitle\n",
      "ACCOUNT CLERK                      83\n",
      "ACCOUNTANT INTERN                  48\n",
      "ADMINISTRATIVE ANALYST             93\n",
      "AIRPORT COMMUNICATIONS OPERATOR    27\n",
      "AIRPORT ECONOMIC PLANNER           13\n",
      "                                   ..\n",
      "Wire Rope Cable Maint Mechanic     22\n",
      "Worker's Comp Supervisor 1         11\n",
      "Worker's Compensation Adjuster     52\n",
      "X-RAY LABORATORY AIDE              26\n",
      "X-Ray Laboratory Aide              70\n",
      "Name: EmployeeName, Length: 1092, dtype: int64\n"
     ]
    }
   ],
   "source": [
    "df_filtered = df[~df['JobTitle'].isin(['Not Provided', 'Not provided'])]\n",
    "\n",
    "employee_count = df_filtered.groupby('JobTitle')['EmployeeName'].nunique()\n",
    "\n",
    "filtered_job_titles = employee_count[employee_count > 10]\n",
    "\n",
    "print(filtered_job_titles)"
   ]
  },
  {
   "cell_type": "code",
   "execution_count": null,
   "id": "3bbe3b94-80e2-47b4-9906-46dd25d5f30d",
   "metadata": {},
   "outputs": [],
   "source": [
    "    "
   ]
  }
 ],
 "metadata": {
  "kernelspec": {
   "display_name": "Python 3 (ipykernel)",
   "language": "python",
   "name": "python3"
  },
  "language_info": {
   "codemirror_mode": {
    "name": "ipython",
    "version": 3
   },
   "file_extension": ".py",
   "mimetype": "text/x-python",
   "name": "python",
   "nbconvert_exporter": "python",
   "pygments_lexer": "ipython3",
   "version": "3.12.7"
  }
 },
 "nbformat": 4,
 "nbformat_minor": 5
}
