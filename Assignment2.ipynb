{
 "cells": [
  {
   "cell_type": "markdown",
   "id": "9840657a-6ca5-49aa-920e-a2c61eed1860",
   "metadata": {},
   "source": [
    "### Question 1: Age Group Classification\n"
   ]
  },
  {
   "cell_type": "code",
   "execution_count": 1,
   "id": "6f0ae524-d6fb-442c-a2e0-609043592c5d",
   "metadata": {},
   "outputs": [
    {
     "name": "stdin",
     "output_type": "stream",
     "text": [
      "Enter Age:  13\n"
     ]
    },
    {
     "name": "stdout",
     "output_type": "stream",
     "text": [
      "Teenager\n"
     ]
    }
   ],
   "source": [
    "age = int(input(\"Enter Age: \"))\n",
    "\n",
    "if age >= 0 and age <= 12:\n",
    "    print(\"Child\")\n",
    "elif age >= 13 and age <= 19:\n",
    "    print(\"Teenager\")\n",
    "elif age >= 20 and age <= 64:\n",
    "    print(\"Adult\")\n",
    "else :\n",
    "    print(\"Senior\")"
   ]
  },
  {
   "cell_type": "markdown",
   "id": "27516398-71ec-4645-8c09-965f7e335ce4",
   "metadata": {},
   "source": [
    "### Question 2: Checking for Eligibility for Discount"
   ]
  },
  {
   "cell_type": "code",
   "execution_count": null,
   "id": "a1cb078b-ba64-4480-a57d-851b79ce3b9c",
   "metadata": {},
   "outputs": [],
   "source": [
    "customer = input(\"Enter membership status (premium/regular): \")\n",
    "amount = int(input(\"Enter purchase amount: \"))\n",
    "\n",
    "if (customer == \"premium\" and amount >= 1000) or (customer == \"regular\" and amount >= 2000):\n",
    "    print(\"Eligible for discount\")\n",
    "else:\n",
    "    print(\"Not eligible for discount\")"
   ]
  },
  {
   "cell_type": "markdown",
   "id": "cfd393ef-fdc7-4c99-bf8b-9953bf525b85",
   "metadata": {},
   "source": [
    "### Question 3: Voting Eligibility Check"
   ]
  },
  {
   "cell_type": "code",
   "execution_count": null,
   "id": "02ed9844-bb5e-474e-91af-30375d9bb281",
   "metadata": {},
   "outputs": [],
   "source": [
    "age = int(input(\"Enter Age: \"))\n",
    "citizenship = input(\"Enter Citizenship (citizen/non-citizen): \")\n",
    "region =  input(\"Enter Region (east/west): \")\n",
    "\n",
    "if (age >= 18 and citizenship == \"citizen\") or (age >= 16 and citizenship == \"citizen\" and region == \"east\"):\n",
    "    print(\"Eligible to Vote\")\n",
    "else:\n",
    "    print(\"Not Eligible to Vote\")"
   ]
  },
  {
   "cell_type": "markdown",
   "id": "0d388d0c-ea83-4520-82cd-662dcbc3e590",
   "metadata": {},
   "source": [
    "### Question 4: Employee Salary Bonus Eligibility\n"
   ]
  },
  {
   "cell_type": "code",
   "execution_count": null,
   "id": "fa86e316-039d-4d10-b1be-f0c20850077a",
   "metadata": {},
   "outputs": [],
   "source": [
    "years = int(input(\"Enter Employee service years: \"))\n",
    "performance = input(\"Enter Employee Performance (exellent/good/satisfy): \")\n",
    "\n",
    "if performance == \"exellent\" and years >= 5:\n",
    "    print(\"Eligible for Bonus\")\n",
    "elif performance == \"good\" and years >= 10:\n",
    "    print(\"Eligible for Bonus\")\n",
    "elif performance == \"satisfy\" and years >= 15:\n",
    "    print(\"Eligible for Bonus\")\n",
    "else:\n",
    "    print(\"Not Eligible for Bonus\")"
   ]
  },
  {
   "cell_type": "markdown",
   "id": "e9e2b0ae-1198-4ddf-b6a7-6b1bc8b9332f",
   "metadata": {},
   "source": [
    "### Question 5."
   ]
  },
  {
   "cell_type": "code",
   "execution_count": null,
   "id": "053e9b16-7ced-4677-9aaf-03d201cc53a0",
   "metadata": {},
   "outputs": [],
   "source": [
    "text = \"I'm learning Python programming\"\n",
    "\n",
    "replace = text.replace(\" \", \"_\")\n",
    "\n",
    "count = replace.count(\"_\")\n",
    "\n",
    "position = replace.find(\"_\")\n",
    "\n",
    "print(\"Modified text:\", replace)\n",
    "print(\"Number of underscores:\", count)\n",
    "print(\"Position of the first underscore:\", position)\n"
   ]
  },
  {
   "cell_type": "markdown",
   "id": "6b5989d8-17ed-4813-8952-d80c6f7c5309",
   "metadata": {},
   "source": [
    "### Question 5"
   ]
  },
  {
   "cell_type": "code",
   "execution_count": null,
   "id": "5cc33d98-1c49-47ca-8fbb-c5776aca7a4b",
   "metadata": {},
   "outputs": [],
   "source": [
    "string = input(\"Enter a string: \")\n",
    "\n",
    "print(\"String excluding the last 3 characters:\", string[:-3])\n",
    "\n",
    "print(\"Every second character:\", string[::2])\n",
    "\n",
    "print(\"Reversed string:\", string[::-1])\n"
   ]
  },
  {
   "cell_type": "markdown",
   "id": "fdcc8e74-7f92-4201-99dc-d34220c155fd",
   "metadata": {},
   "source": [
    "### Question 7."
   ]
  },
  {
   "cell_type": "code",
   "execution_count": null,
   "id": "b52d9c01-c7fd-4bd3-907c-7c1bfdce565f",
   "metadata": {},
   "outputs": [],
   "source": [
    "sentence = \"Hello World, We are learning Python\"\n",
    "\n",
    "words = sentence.split()\n",
    "\n",
    "reversed_words = words[::-1]\n",
    "\n",
    "reversed_sentence = ' '.join(reversed_words)\n",
    "\n",
    "print(\"Reversed sentence:\", reversed_sentence)\n"
   ]
  },
  {
   "cell_type": "markdown",
   "id": "e7514699-9000-4e4b-a1b6-bdd5dd0b7202",
   "metadata": {},
   "source": [
    "### Question 8."
   ]
  },
  {
   "cell_type": "code",
   "execution_count": null,
   "id": "abe3ec83-cfcb-43d2-8db8-db685b00c827",
   "metadata": {},
   "outputs": [],
   "source": [
    "code = \"SKU-12345-XYZ\"\n",
    "\n",
    "number = code[4:-4]\n",
    "\n",
    "print(\"Extracted number:\", number)\n"
   ]
  },
  {
   "cell_type": "markdown",
   "id": "b35fb637-f371-4516-b9ee-4ea395855e38",
   "metadata": {},
   "source": [
    "### Question 9."
   ]
  },
  {
   "cell_type": "markdown",
   "id": "c3731091-c1ae-422d-b30f-60560867cfdc",
   "metadata": {},
   "source": [
    "# !"
   ]
  },
  {
   "cell_type": "markdown",
   "id": "78c3b7a6-1c89-4aa3-a5e7-67a600be00b1",
   "metadata": {},
   "source": [
    "### Question 10. Find the Longest Word\n"
   ]
  },
  {
   "cell_type": "code",
   "execution_count": null,
   "id": "282801ee-084b-44fa-95ce-bd091a3222da",
   "metadata": {},
   "outputs": [],
   "source": [
    "string = \"I love programming in Python\"\n",
    "\n",
    "words = string.split()\n",
    "\n",
    "longest_word = max(words, key=len)\n",
    "\n",
    "print(\"The longest word is:\", longest_word)\n"
   ]
  },
  {
   "cell_type": "markdown",
   "id": "d5b88e31-4e95-4874-9834-67c09cac1c80",
   "metadata": {},
   "source": [
    "# "
   ]
  }
 ],
 "metadata": {
  "kernelspec": {
   "display_name": "Python 3 (ipykernel)",
   "language": "python",
   "name": "python3"
  },
  "language_info": {
   "codemirror_mode": {
    "name": "ipython",
    "version": 3
   },
   "file_extension": ".py",
   "mimetype": "text/x-python",
   "name": "python",
   "nbconvert_exporter": "python",
   "pygments_lexer": "ipython3",
   "version": "3.12.7"
  }
 },
 "nbformat": 4,
 "nbformat_minor": 5
}
