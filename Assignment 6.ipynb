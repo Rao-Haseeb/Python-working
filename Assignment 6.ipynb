{
 "cells": [
  {
   "cell_type": "markdown",
   "id": "c8bfe850-84a4-42a8-9ead-5484afe045f5",
   "metadata": {},
   "source": [
    "## Question 1\n"
   ]
  },
  {
   "cell_type": "code",
   "execution_count": 10,
   "id": "a90ed9ff-ea8e-47d0-98c1-cf2cea0b913d",
   "metadata": {},
   "outputs": [
    {
     "name": "stdout",
     "output_type": "stream",
     "text": [
      "Charging the electric vehicle.\n",
      "Filling up the gasoline tank.\n",
      "Driving the hybrid car.\n"
     ]
    }
   ],
   "source": [
    "class ElectricVehicle:\n",
    "    def charge(self):\n",
    "        print(\"Charging the electric vehicle.\")\n",
    "\n",
    "class GasolineVehicle:\n",
    "    def fuel_up(self):\n",
    "        print(\"Filling up the gasoline tank.\")\n",
    "\n",
    "class HybridCar(ElectricVehicle, GasolineVehicle):\n",
    "    def drive(self):\n",
    "        print(\"Driving the hybrid car.\")\n",
    "\n",
    "hybrid = HybridCar()\n",
    "\n",
    "hybrid_car.charge() \n",
    "hybrid_car.fuel_up()  \n",
    "hybrid_car.drive()   \n"
   ]
  },
  {
   "cell_type": "markdown",
   "id": "22e3f3a6-e78b-4f9c-88b1-917da88772f1",
   "metadata": {},
   "source": [
    "## Question 2\n"
   ]
  },
  {
   "cell_type": "code",
   "execution_count": 16,
   "id": "cce7118c-3e1c-4c7e-bf32-943c9cf96b8d",
   "metadata": {},
   "outputs": [],
   "source": [
    "class Animal:\n",
    "    def make_sound(self):\n",
    "        print(\"Animal makes sound\")\n",
    "\n",
    "class Lion(Animal):\n",
    "    def make_sound(self):\n",
    "        print(\"Roar\")\n",
    "        \n",
    "class Cat(Animal):\n",
    "    def make_sound(self):\n",
    "        print(\"Meow\")\n",
    "\n",
    "lion = Lion()\n",
    "cat = Cat()"
   ]
  },
  {
   "cell_type": "code",
   "execution_count": 17,
   "id": "da69eb78-db0b-48fa-8f19-1336849c5bde",
   "metadata": {},
   "outputs": [
    {
     "name": "stdout",
     "output_type": "stream",
     "text": [
      "Roar\n",
      "Meow\n"
     ]
    }
   ],
   "source": [
    "lion.make_sound()\n",
    "cat.make_sound()"
   ]
  },
  {
   "cell_type": "markdown",
   "id": "d3d0b7e4-7726-43fd-aa3e-656de0aa3801",
   "metadata": {},
   "source": [
    "## Question 4\n"
   ]
  },
  {
   "cell_type": "code",
   "execution_count": 40,
   "id": "2b579d5f-a8e0-43df-8413-e85e5d8dc851",
   "metadata": {},
   "outputs": [],
   "source": [
    "class Greeting:\n",
    "    def greet(self,name='',greet=''):\n",
    "        print(\"Hello! \", name,\", \", greet)\n",
    "\n",
    "greets = Greeting()"
   ]
  },
  {
   "cell_type": "code",
   "execution_count": 41,
   "id": "787a49ab-d0c9-4caa-a14b-5a92bd3d3677",
   "metadata": {},
   "outputs": [
    {
     "name": "stdout",
     "output_type": "stream",
     "text": [
      "Hello!  Haseeb ,  How are you?\n"
     ]
    }
   ],
   "source": [
    "greets.greet(\"Haseeb\",\"How are you?\")"
   ]
  },
  {
   "cell_type": "markdown",
   "id": "6f2fc760-2b1b-4850-9521-bc5ec39b73cb",
   "metadata": {},
   "source": [
    "## Question 5"
   ]
  },
  {
   "cell_type": "code",
   "execution_count": null,
   "id": "9a2067ad-185f-443e-a8db-71d6cc1d3a04",
   "metadata": {},
   "outputs": [],
   "source": [
    "class CarRental:\n",
    "    def __init__(self, car_name, price_per_day):\n",
    "        self.__car_name = car_name\n",
    "        self.__price_per_day = price_per_day\n",
    "        self.__rental_days = 0\n",
    "\n",
    "    def get_car_name(self):\n",
    "        return self.__car_name\n",
    "\n",
    "    def set_car_name(self, car_name):\n",
    "        self.__car_name = car_name\n",
    "\n",
    "    def get_price_per_day(self):\n",
    "        return self.__price_per_day\n",
    "\n",
    "    def set_price_per_day(self, price_per_day):\n",
    "        self.__price_per_day = price_per_day\n",
    "\n",
    "    def get_rental_days(self):\n",
    "        return self.__rental_days\n",
    "\n",
    "    def set_rental_days(self, rental_days):\n",
    "        self.__rental_days = rental_days\n",
    "\n",
    "    def calculate_total_rental_cost(self):\n",
    "        return self.__price_per_day * self.__rental_days\n",
    "\n",
    "car = CarRental(\"Toyota Camry\", 50)\n",
    "\n",
    "car.set_rental_days(5)\n",
    "\n",
    "car_name = car.get_car_name()\n",
    "price_per_day = car.get_price_per_day()\n",
    "rental_days = car.get_rental_days()\n",
    "total_cost = car.calculate_total_rental_cost()\n",
    "\n",
    "print(f\"Car Name: {car_name}\")\n",
    "print(f\"Price Per Day: ${price_per_day}\")\n",
    "print(f\"Rental Days: {rental_days}\")\n",
    "print(f\"Total Rental Cost: ${total_cost}\")\n"
   ]
  }
 ],
 "metadata": {
  "kernelspec": {
   "display_name": "Python 3 (ipykernel)",
   "language": "python",
   "name": "python3"
  },
  "language_info": {
   "codemirror_mode": {
    "name": "ipython",
    "version": 3
   },
   "file_extension": ".py",
   "mimetype": "text/x-python",
   "name": "python",
   "nbconvert_exporter": "python",
   "pygments_lexer": "ipython3",
   "version": "3.12.7"
  }
 },
 "nbformat": 4,
 "nbformat_minor": 5
}
