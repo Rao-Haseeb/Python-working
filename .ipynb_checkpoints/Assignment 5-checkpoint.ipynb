{
 "cells": [
  {
   "cell_type": "markdown",
   "id": "b0f2b1e9-fed0-4d35-b64c-61a685743d93",
   "metadata": {},
   "source": [
    "## Question 1\n",
    "1. Write a Python function called add_numbers that takes two numbers as arguments and returns their sum. Then, test the function by calling it with two numbers of your choice."
   ]
  },
  {
   "cell_type": "code",
   "execution_count": 2,
   "id": "c37c6cb5-0073-4016-963a-8c6ee371cad3",
   "metadata": {},
   "outputs": [
    {
     "name": "stdout",
     "output_type": "stream",
     "text": [
      "5\n"
     ]
    }
   ],
   "source": [
    "def add_numbers(a,b):\n",
    "    print(a + b)\n",
    "\n",
    "add_numbers(2,3)"
   ]
  },
  {
   "cell_type": "markdown",
   "id": "f313bfbb-b7a1-403d-ba72-69038a070e9e",
   "metadata": {},
   "source": [
    "## Question 2\n",
    "2. Write a Python function count_vowels that accepts a string and returns the number of vowels (a, e, i, o, u) in that string.\n",
    "- Example: 'Orange'\n",
    "- Output: 3 vowels\n"
   ]
  },
  {
   "cell_type": "code",
   "execution_count": 5,
   "id": "530e9790-e3fe-4a8e-9b36-09d59674f1ba",
   "metadata": {},
   "outputs": [
    {
     "name": "stdout",
     "output_type": "stream",
     "text": [
      "3 vowels\n"
     ]
    }
   ],
   "source": [
    "def count_vowels(s):\n",
    "    vowels = 'aeiouAEIOU'\n",
    "    count = 0\n",
    "    for x in s:\n",
    "        if x in vowels:\n",
    "            count += 1\n",
    "    return f\"{count} vowels\"\n",
    "\n",
    "print(count_vowels('Orange'))\n"
   ]
  },
  {
   "cell_type": "markdown",
   "id": "75189b73-7355-40a2-9834-3107389703e4",
   "metadata": {},
   "source": [
    "## Question 3\n",
    "3. Create a Python function called currency_converter() that takes two arguments:\n",
    "\n",
    "- amount: The amount of money to be converted (in USD).\n",
    "- exchange_rate (default is 280): The conversion rate from USD to another currency (e.g., PKR). You can assume the default rate is 1 USD = 280 PKR.\n",
    "\n",
    "The function should return a message showing how much the given amount is worth in the target currency (PKR)."
   ]
  },
  {
   "cell_type": "code",
   "execution_count": 14,
   "id": "e9570f78-8680-4d24-aff1-661b17f52774",
   "metadata": {},
   "outputs": [
    {
     "name": "stdout",
     "output_type": "stream",
     "text": [
      "1 USD into PKR is : 280 Rs\n"
     ]
    }
   ],
   "source": [
    "def currency_converter(usd,pkr=280):\n",
    "    print(f\"{usd} USD into PKR is : {usd*pkr} Rs\")\n",
    "\n",
    "currency_converter(1)"
   ]
  },
  {
   "cell_type": "markdown",
   "id": "a1443689-8119-4f73-a3b9-957da71423a8",
   "metadata": {},
   "source": [
    "## Question 4\n",
    "4. Write a Python function display_student_info that accepts the following details about a student:\n",
    "\n",
    "- name (Keyword argument): The name of the student.\n",
    "- age (Keyword argument): The age of the student.\n",
    "- grade (Keyword argument): The grade the student is in.\n",
    "- school (Keyword argument): The name of the school the student attends."
   ]
  },
  {
   "cell_type": "code",
   "execution_count": 39,
   "id": "9b2424ca-f19b-459e-8372-359d084af77e",
   "metadata": {},
   "outputs": [
    {
     "name": "stdout",
     "output_type": "stream",
     "text": [
      "name : Haseeb\n",
      "age : 21\n",
      "grade : A+\n",
      "school : JawanPakistan\n"
     ]
    }
   ],
   "source": [
    "def display_student_info(**kwargs):\n",
    "    for key , value in kwargs.items():\n",
    "        print(f\"{key} : {value}\")\n",
    "\n",
    "display_student_info(name=\"Haseeb\",age=21,grade=\"A+\",school=\"JawanPakistan\")"
   ]
  },
  {
   "cell_type": "markdown",
   "id": "1f3060b9-564a-4755-8bb7-17569762507b",
   "metadata": {},
   "source": [
    "## Question 5\n",
    "5. Write a Python function calculate_price that accepts two positional arguments:\n",
    "\n",
    "- price: The price of a single item.\n",
    "- quantity: The number of items bought.\n",
    "- The function should return the total price by multiplying price and quantity."
   ]
  },
  {
   "cell_type": "code",
   "execution_count": 27,
   "id": "875653e5-787f-48fd-9858-ddf21371dd04",
   "metadata": {},
   "outputs": [
    {
     "data": {
      "text/plain": [
       "18186"
      ]
     },
     "execution_count": 27,
     "metadata": {},
     "output_type": "execute_result"
    }
   ],
   "source": [
    "def calculate_price( items_qty , price ):\n",
    "    return (items_qty * price)\n",
    "\n",
    "calculate_price(14,1299)"
   ]
  },
  {
   "cell_type": "markdown",
   "id": "94c77e1b-1e69-44ff-b158-7ff8ab4bb943",
   "metadata": {},
   "source": [
    "## Question 6\n",
    "6. Write a Python function display_prices that takes a product name and an arbitrary number of keyword arguments representing product prices. The function should display each product and its price.\n",
    "\n",
    "- Product: Laptop\n",
    "- Amazon: $800\n",
    "\n",
    "- eBay: $750\n",
    "  \n",
    "- Walmart: $780\n",
    "\n"
   ]
  },
  {
   "cell_type": "code",
   "execution_count": 40,
   "id": "dc7e33ee-decb-487a-956c-53b0fb6157ae",
   "metadata": {},
   "outputs": [
    {
     "name": "stdout",
     "output_type": "stream",
     "text": [
      "Product: Laptop\n",
      "Amazon: $800\n",
      "eBay: $750\n",
      "Walmart: $780\n"
     ]
    }
   ],
   "source": [
    "def display_prices(product, **prices):\n",
    "    print(f\"Product: {product}\")\n",
    "    for store, price in prices.items():\n",
    "        print(f\"{store}: ${price}\")\n",
    "\n",
    "display_prices(\"Laptop\", Amazon=800, eBay=750, Walmart=780)\n"
   ]
  },
  {
   "cell_type": "markdown",
   "id": "d93ff1b6-e7b9-4cf2-ab3e-d95817c7b561",
   "metadata": {},
   "source": [
    "## Question 7\n",
    "7. Write a Python function find_max that takes any number of numerical arguments and returns the maximum number."
   ]
  },
  {
   "cell_type": "code",
   "execution_count": 46,
   "id": "82f7830a-617d-4475-ba3b-87c373942d00",
   "metadata": {},
   "outputs": [
    {
     "data": {
      "text/plain": [
       "4"
      ]
     },
     "execution_count": 46,
     "metadata": {},
     "output_type": "execute_result"
    }
   ],
   "source": [
    "def find_max(*num):\n",
    "    return max(num)\n",
    "\n",
    "find_max(-2,-5,0,4)"
   ]
  },
  {
   "cell_type": "markdown",
   "id": "36d10e5a-348a-4594-b353-a15652f5a1a9",
   "metadata": {},
   "source": [
    "## Question 8\n",
    "8. Write a Python function display_info that takes:\n",
    "\n",
    "- Positional arguments for the name and age of a person.\n",
    "- Keyword arguments for other personal details like address, phone number, and email.\n",
    "\n",
    "Example Output:\n",
    "\n",
    "- Name: Alice\n",
    "- Age: 30\n",
    "- Other Details:\n",
    "    - address: 123 Main St\n",
    "    - phone: 123-456-7890\n",
    "    - email: alice@example.com\n"
   ]
  },
  {
   "cell_type": "code",
   "execution_count": 60,
   "id": "a5909d47-fc82-4632-9940-39d181e5c5ef",
   "metadata": {},
   "outputs": [
    {
     "name": "stdout",
     "output_type": "stream",
     "text": [
      "Name: Alice\n",
      "Age: 30\n"
     ]
    },
    {
     "data": {
      "text/plain": [
       "{'address': '123 Main St',\n",
       " 'phone': '123-456-7890',\n",
       " 'email': 'alice@example.com'}"
      ]
     },
     "execution_count": 60,
     "metadata": {},
     "output_type": "execute_result"
    }
   ],
   "source": [
    "def display_info(name, age, **kwarg):\n",
    "    print(f\"Name: {name}\")\n",
    "    print(f\"Age: {age}\")\n",
    "    return (kwarg)\n",
    "    \n",
    "display_info(\"Alice\", 30, address=\"123 Main St\", phone=\"123-456-7890\", email=\"alice@example.com\")\n",
    "    "
   ]
  },
  {
   "cell_type": "markdown",
   "id": "ae9b5146-1493-4161-a3b3-55ce78a21039",
   "metadata": {},
   "source": [
    "## Question 9\n",
    "9. Write a Python function calculate_rectangle that accepts the length and width of a rectangle as arguments. Inside this function, create two nested functions:\n",
    "\n",
    "- calculate_area: This function should calculate the area of the rectangle.\n",
    "- calculate_perimeter: This function should calculate the perimeter of the rectangle.\n",
    "- The main function should return both the area and the perimeter of the rectangle."
   ]
  },
  {
   "cell_type": "code",
   "execution_count": 64,
   "id": "bee3bd68-5dd1-4fb9-8129-66367b27fad7",
   "metadata": {
    "scrolled": true
   },
   "outputs": [
    {
     "data": {
      "text/plain": [
       "(8, 12)"
      ]
     },
     "execution_count": 64,
     "metadata": {},
     "output_type": "execute_result"
    }
   ],
   "source": [
    "def calculate_rectangle(l , w):\n",
    "    def calculate_area():\n",
    "        return (l * w)\n",
    "    \n",
    "    def calculate_perimeter():\n",
    "        return 2 * (l + w)\n",
    "    return calculate_area(), calculate_perimeter()\n",
    "\n",
    "calculate_rectangle(2,4)\n",
    "    \n",
    "    "
   ]
  },
  {
   "cell_type": "code",
   "execution_count": 75,
   "id": "3b79e639-8ed3-4733-b408-3025e3066f2f",
   "metadata": {},
   "outputs": [
    {
     "name": "stdout",
     "output_type": "stream",
     "text": [
      " Area: 24 | Perimeter: 20\n"
     ]
    }
   ],
   "source": [
    "def calculate_rectangle(l, w):\n",
    "    def calculate_area():\n",
    "        return l * w\n",
    "    \n",
    "    def calculate_perimeter():\n",
    "        return 2 * (l + w)\n",
    "    \n",
    "    print( f\" Area: {calculate_area()} | Perimeter: {calculate_perimeter()}\")\n",
    "\n",
    "calculate_rectangle(6,4)\n",
    "\n"
   ]
  },
  {
   "cell_type": "markdown",
   "id": "9b4d7ca8-3769-4b21-b9bd-1b1fe4ec5aa5",
   "metadata": {},
   "source": [
    "## Question 10\n",
    "Q 10.\n",
    "\n",
    "products = [\n",
    "    {\"name\": \"Laptop\", \"price\": 1200, \"in_stock\": True, \"discount\": 0.1},\n",
    "    {\"name\": \"Smartphone\", \"price\": 800, \"in_stock\": False, \"discount\": 0.05},\n",
    "    {\"name\": \"Headphones\", \"price\": 150, \"in_stock\": True, \"discount\": 0.2},\n",
    "    {\"name\": \"Smartwatch\", \"price\": 300, \"in_stock\": True, \"discount\": 0},\n",
    "    {\"name\": \"Keyboard\", \"price\": 100, \"in_stock\": True, \"discount\": 0.15}\n",
    "]\n",
    "\n",
    "- Get names of in-stock products:\n",
    "\n",
    "  *Use list comprehension to generate a list of names for the products that are in stock.\n",
    "                                            \n",
    "- Calculate final prices for in-stock products after discount:\n",
    "\n",
    "    *For products that have a discount, calculate the final price by applying the discount.\n",
    "\n",
    "  \n",
    "    *For products with no discount, keep the original price.\n",
    "                                            \n",
    "- Generate a list of tuples with the product name and its final price.\n",
    "\n",
    "Example Output:\n",
    "\n",
    "- In-stock product names: ['Laptop', 'Headphones', 'Smartwatch', 'Keyboard']\n",
    "- Discounted prices: [('Laptop', 1080.0), ('Headphones', 120.0), ('Smartwatch', 300), ('Keyboard', 85.0)]\n"
   ]
  },
  {
   "cell_type": "code",
   "execution_count": 129,
   "id": "92e8a6f1-1acf-4a9f-a440-95c060a090bc",
   "metadata": {},
   "outputs": [
    {
     "data": {
      "text/plain": [
       "['Laptop', 'Headphones', 'Smartwatch', 'Keyboard']"
      ]
     },
     "execution_count": 129,
     "metadata": {},
     "output_type": "execute_result"
    }
   ],
   "source": [
    "products = [\n",
    "    {\"name\": \"Laptop\", \"price\": 1200, \"in_stock\": True, \"discount\": 0.1},\n",
    "    {\"name\": \"Smartphone\", \"price\": 800, \"in_stock\": False, \"discount\": 0.05},\n",
    "    {\"name\": \"Headphones\", \"price\": 150, \"in_stock\": True, \"discount\": 0.2},\n",
    "    {\"name\": \"Smartwatch\", \"price\": 300, \"in_stock\": True, \"discount\": 0},\n",
    "    {\"name\": \"Keyboard\", \"price\": 100, \"in_stock\": True, \"discount\": 0.15}\n",
    "]\n",
    "\n",
    "pro_name = []\n",
    "\n",
    "for item in products:\n",
    "    if item['in_stock'] == True:\n",
    "        pro_name.append(item['name'])\n",
    "\n",
    "pro_name\n"
   ]
  },
  {
   "cell_type": "markdown",
   "id": "5de1c63a-2cdf-484c-826f-1496639bda1d",
   "metadata": {},
   "source": [
    "### List Comprehension"
   ]
  },
  {
   "cell_type": "code",
   "execution_count": 106,
   "id": "df1362c1-2fcf-4079-bcc1-ee65d85c85ac",
   "metadata": {},
   "outputs": [],
   "source": [
    "pro_name = [item['name'] for item in products if item['in_stock'] == True]"
   ]
  },
  {
   "cell_type": "code",
   "execution_count": 107,
   "id": "be6c9124-b8a7-4f41-a9b6-f15a034e81f2",
   "metadata": {},
   "outputs": [
    {
     "data": {
      "text/plain": [
       "['Laptop', 'Headphones', 'Smartwatch', 'Keyboard']"
      ]
     },
     "execution_count": 107,
     "metadata": {},
     "output_type": "execute_result"
    }
   ],
   "source": [
    "pro_name"
   ]
  },
  {
   "cell_type": "code",
   "execution_count": 144,
   "id": "2b2f5e83-ba29-4e05-bf40-52785882edd0",
   "metadata": {},
   "outputs": [
    {
     "name": "stdout",
     "output_type": "stream",
     "text": [
      "Discounted prices: [('Laptop', 1080.0), ('Headphones', 120.0), ('Smartwatch', 300), ('Keyboard', 85.0)]\n"
     ]
    }
   ],
   "source": [
    "\n",
    "disc_price = [(price['name'], price['price'] * (1 - price['discount'])) for price in products if price['in_stock']] \n",
    "print(\"Discounted prices:\", disc_price)"
   ]
  },
  {
   "cell_type": "code",
   "execution_count": null,
   "id": "05f7c7a1-7e3f-4f20-9063-8c528dc008d3",
   "metadata": {},
   "outputs": [],
   "source": []
  }
 ],
 "metadata": {
  "kernelspec": {
   "display_name": "Python 3 (ipykernel)",
   "language": "python",
   "name": "python3"
  },
  "language_info": {
   "codemirror_mode": {
    "name": "ipython",
    "version": 3
   },
   "file_extension": ".py",
   "mimetype": "text/x-python",
   "name": "python",
   "nbconvert_exporter": "python",
   "pygments_lexer": "ipython3",
   "version": "3.12.7"
  }
 },
 "nbformat": 4,
 "nbformat_minor": 5
}
