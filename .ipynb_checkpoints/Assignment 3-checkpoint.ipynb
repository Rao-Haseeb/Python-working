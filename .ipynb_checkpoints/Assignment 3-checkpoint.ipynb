{
 "cells": [
  {
   "cell_type": "markdown",
   "id": "6b15968f-2368-4e1b-ab28-450d59916200",
   "metadata": {},
   "source": [
    "### Question 1"
   ]
  },
  {
   "cell_type": "code",
   "execution_count": 3,
   "id": "22f222fa-3a68-471f-ae4d-75a5202a9e1b",
   "metadata": {},
   "outputs": [
    {
     "name": "stdin",
     "output_type": "stream",
     "text": [
      "Enter your Age:  18\n",
      "Enter your Credit Score:  650\n",
      "Enter your Annual Income:  30000\n"
     ]
    },
    {
     "name": "stdout",
     "output_type": "stream",
     "text": [
      "You are Eligible\n"
     ]
    }
   ],
   "source": [
    "age = int(input(\"Enter your Age: \"))\n",
    "credit_score = int(input(\"Enter your Credit Score: \"))\n",
    "annual_income = int(input(\"Enter your Annual Income: \"))\n",
    "\n",
    "if age >= 18:\n",
    "    if (credit_score >= 650 and annual_income >= 30000) or (credit_score >= 700 and annual_income >= 25000):\n",
    "        print(\"You are Eligible\")\n",
    "    else:\n",
    "        print(\"You are not Eligible\")\n",
    "else:\n",
    "    print(\"You are not Eligible\")"
   ]
  },
  {
   "cell_type": "markdown",
   "id": "88d87824-7e66-4d2f-afca-e57588c88617",
   "metadata": {},
   "source": [
    "### Question 2\n"
   ]
  },
  {
   "cell_type": "code",
   "execution_count": 4,
   "id": "4f76f269-deee-4e29-aa11-e4992b75589d",
   "metadata": {},
   "outputs": [
    {
     "name": "stdin",
     "output_type": "stream",
     "text": [
      "Enter your Age:  19\n",
      "Enter your Experience:  9\n"
     ]
    },
    {
     "name": "stdout",
     "output_type": "stream",
     "text": [
      "You have moderate Experience\n"
     ]
    }
   ],
   "source": [
    "age = int(input(\"Enter your Age: \"))\n",
    "\n",
    "if age < 18:\n",
    "    print(\"you are underage\")\n",
    "else:\n",
    "    experience = int(input(\"Enter your Experience: \"))\n",
    "    if experience >= 10:\n",
    "        print(\"You have a lot of Experience\")\n",
    "    elif 5 <= experience <= 9:\n",
    "        print(\"You have moderate Experience\")\n",
    "    elif 2 <= experience <= 4:\n",
    "        print(\"You are relatively new\")\n",
    "    else:\n",
    "        print(\"You are just starting now\")"
   ]
  },
  {
   "cell_type": "markdown",
   "id": "b65a9540-df7c-4051-9781-14ca6436ddcf",
   "metadata": {},
   "source": [
    "### Question 3"
   ]
  },
  {
   "cell_type": "code",
   "execution_count": 5,
   "id": "85d99f23-c956-4617-9b0e-c9bb91e271e7",
   "metadata": {},
   "outputs": [
    {
     "name": "stdout",
     "output_type": "stream",
     "text": [
      "3096468380896\n",
      "3096468380896\n",
      "3096468380896\n",
      "3096468380896\n"
     ]
    }
   ],
   "source": [
    "a = \"Hello\"\n",
    "b = \"Hello\"\n",
    "c = \"Hello\"\n",
    "d = \"Hello\"\n",
    "\n",
    "print(id(a))\n",
    "print(id(b))\n",
    "print(id(c))\n",
    "print(id(d))"
   ]
  },
  {
   "cell_type": "code",
   "execution_count": 6,
   "id": "7bc5f2a1-f82f-4485-b3c0-ed8f98b43103",
   "metadata": {},
   "outputs": [
    {
     "name": "stderr",
     "output_type": "stream",
     "text": [
      "ERROR: Could not find a version that satisfies the requirement sys (from versions: none)\n",
      "ERROR: No matching distribution found for sys\n"
     ]
    }
   ],
   "source": [
    "!pip install sys"
   ]
  },
  {
   "cell_type": "code",
   "execution_count": 7,
   "id": "7d7eb4a1-a924-4001-89b2-8d0a16268630",
   "metadata": {},
   "outputs": [
    {
     "name": "stdout",
     "output_type": "stream",
     "text": [
      "[28, 47, 24, 61]\n"
     ]
    }
   ],
   "source": [
    "import sys\n",
    "a1 = 10\n",
    "b1 = \"Python\"\n",
    "c1 = 20.5\n",
    "d1 = \"Hello this is my App\"\n",
    "\n",
    "my_list = [sys.getsizeof(a1),sys.getsizeof(b1),sys.getsizeof(c1),sys.getsizeof(d1)]\n",
    "\n",
    "print(my_list)"
   ]
  },
  {
   "cell_type": "markdown",
   "id": "4a97e7d0-edf3-4440-ace7-3cfd40385944",
   "metadata": {},
   "source": [
    "### Question 4"
   ]
  },
  {
   "cell_type": "code",
   "execution_count": 8,
   "id": "42b6c014-ab94-4349-be16-d63cddc88c3d",
   "metadata": {},
   "outputs": [
    {
     "name": "stdin",
     "output_type": "stream",
     "text": [
      "Enter your email address:  abc@gmail.com\n"
     ]
    },
    {
     "name": "stdout",
     "output_type": "stream",
     "text": [
      "Email format is valid.\n"
     ]
    }
   ],
   "source": [
    "email = input(\"Enter your email address: \")\n",
    "\n",
    "if \"@\" in email and \".\" in email:\n",
    "    print(\"Email format is valid.\")\n",
    "else:\n",
    "    print(\"Invalid email format\")\n"
   ]
  },
  {
   "cell_type": "markdown",
   "id": "a97c077b-cc3e-4e8d-9089-0422d9093d1d",
   "metadata": {},
   "source": [
    "### Question 5"
   ]
  },
  {
   "cell_type": "code",
   "execution_count": 9,
   "id": "8fb25cef-cfd5-4c65-98e9-d6618193f351",
   "metadata": {},
   "outputs": [
    {
     "name": "stdout",
     "output_type": "stream",
     "text": [
      "[<class 'int'>, <class 'float'>, <class 'str'>, <class 'list'>, <class 'tuple'>]\n"
     ]
    }
   ],
   "source": [
    "x = (11, 22.333, 'apple', [1, 2, 3], ('a', 'b'))\n",
    "\n",
    "data_types = list(map(type, x))\n",
    "\n",
    "print(data_types)\n"
   ]
  },
  {
   "cell_type": "markdown",
   "id": "1aeb5526-d250-4c99-960a-6ff7f6590a7c",
   "metadata": {},
   "source": [
    "### Question 6\n"
   ]
  },
  {
   "cell_type": "code",
   "execution_count": 10,
   "id": "e05311c7-1c33-481e-9bcf-cf10b36057b7",
   "metadata": {},
   "outputs": [
    {
     "data": {
      "text/plain": [
       "True"
      ]
     },
     "execution_count": 10,
     "metadata": {},
     "output_type": "execute_result"
    }
   ],
   "source": [
    "users = [(\"alice\",\"admin\"),(\"bob\",\"user\"),(\"charlie\",\"moderator\")]\n",
    "\n",
    "\"alice\" in users[0]\n"
   ]
  },
  {
   "cell_type": "code",
   "execution_count": 15,
   "id": "97db0ba6-c5fb-4d19-912c-311347242f55",
   "metadata": {},
   "outputs": [
    {
     "name": "stdin",
     "output_type": "stream",
     "text": [
      "Enter the username to check:  alice\n"
     ]
    },
    {
     "name": "stdout",
     "output_type": "stream",
     "text": [
      "This admin is there.\n"
     ]
    }
   ],
   "source": [
    "users = [(\"alice\", \"admin\"), \n",
    "         (\"bob\", \"user\"), \n",
    "         (\"charlie\", \"moderator\")]\n",
    "\n",
    "username_to_check = input(\"Enter the username to check: \")\n",
    "\n",
    "user_tuple = next((user for user in users if user[0] == username_to_check), None)\n",
    "\n",
    "if user_tuple:\n",
    "\n",
    "    if user_tuple is users[0]: \n",
    "        print(\"This admin is there.\")\n",
    "    else:\n",
    "        print(\"Exists\")\n",
    "else:\n",
    "    print(\"Invalid username\")\n"
   ]
  },
  {
   "cell_type": "markdown",
   "id": "ab1d82db-e76e-4aa1-b64e-8164fc229f1f",
   "metadata": {},
   "source": [
    "### Question 7"
   ]
  },
  {
   "cell_type": "code",
   "execution_count": 16,
   "id": "12571511-3654-4980-be05-fd1d88e944f4",
   "metadata": {},
   "outputs": [
    {
     "name": "stdout",
     "output_type": "stream",
     "text": [
      "Siblings\n",
      "Cousin\n"
     ]
    }
   ],
   "source": [
    "person1 = [\"ali\", \"sara\", \"pakistan\", 123]\n",
    "person2 = person1\n",
    "person3 = [\"umer\", \"marry\", \"india\", 234]\n",
    "\n",
    "if person1 is person2:\n",
    "    print(\"Siblings\")\n",
    "else:\n",
    "    print(\"No Relation\")\n",
    "\n",
    "if person1 is not person3:\n",
    "    print(\"Cousin\")\n",
    "else:\n",
    "    print(\"No Relation\")\n",
    "\n"
   ]
  },
  {
   "cell_type": "markdown",
   "id": "09bcfc87-fa91-4b66-95cf-24d17e153e58",
   "metadata": {},
   "source": [
    "### Question 8"
   ]
  },
  {
   "cell_type": "code",
   "execution_count": 17,
   "id": "c16865a2-43aa-41e7-a579-5dcf63bc64c5",
   "metadata": {},
   "outputs": [
    {
     "name": "stdin",
     "output_type": "stream",
     "text": [
      "Enter the book's title:  python\n",
      "Enter the author's name:  Haseeb\n",
      "Enter the year of publication:  2024\n",
      "Enter the price of the book:  2500\n"
     ]
    },
    {
     "name": "stdout",
     "output_type": "stream",
     "text": [
      "Book Details:\n",
      "Title: python\n",
      "Author: Haseeb\n",
      "Year of Publication: 2024\n",
      "Price: $ 2500.0\n"
     ]
    }
   ],
   "source": [
    "title = input(\"Enter the book's title: \")\n",
    "author = input(\"Enter the author's name: \")\n",
    "year = int(input(\"Enter the year of publication: \"))\n",
    "price = float(input(\"Enter the price of the book: \"))\n",
    "\n",
    "\n",
    "print(\"Book Details:\")\n",
    "print(f\"Title: {title}\")\n",
    "print(f\"Author: {author}\")\n",
    "print(f\"Year of Publication: {year}\")\n",
    "print(f\"Price: $ {price}\")\n"
   ]
  },
  {
   "cell_type": "markdown",
   "id": "042ea103-2e6c-46e3-98a3-4dac8d85abd1",
   "metadata": {},
   "source": [
    "### Question 9"
   ]
  },
  {
   "cell_type": "code",
   "execution_count": 18,
   "id": "85ba8b0d-d862-4e56-a5c5-6b458ae1ff47",
   "metadata": {},
   "outputs": [
    {
     "name": "stdin",
     "output_type": "stream",
     "text": [
      "Check Subject;  maths\n"
     ]
    },
    {
     "name": "stdout",
     "output_type": "stream",
     "text": [
      "AVailable\n"
     ]
    }
   ],
   "source": [
    "subjects = [\"physics\",\"chemistry\",\"islamiat\",\"english\",\"urdu\",\"maths\"]\n",
    "input_user = input(\"Check Subject; \")\n",
    "\n",
    "if input_user in subjects:\n",
    "    print(\"AVailable\")\n",
    "else:\n",
    "    print(\"Not Available\")"
   ]
  },
  {
   "cell_type": "markdown",
   "id": "ee9fd058-2749-4f30-996d-ccd74cc45c48",
   "metadata": {},
   "source": [
    "### Question 10"
   ]
  },
  {
   "cell_type": "code",
   "execution_count": 19,
   "id": "3eaaefe6-6105-436a-aabe-67093612557d",
   "metadata": {},
   "outputs": [
    {
     "name": "stdin",
     "output_type": "stream",
     "text": [
      "Find here:  9\n"
     ]
    },
    {
     "name": "stdout",
     "output_type": "stream",
     "text": [
      "9\n"
     ]
    },
    {
     "name": "stdin",
     "output_type": "stream",
     "text": [
      "Count here:  4\n"
     ]
    },
    {
     "name": "stdout",
     "output_type": "stream",
     "text": [
      "5\n"
     ]
    }
   ],
   "source": [
    "numbers = (2,4,8,2,8,4,1,4,4,9,4)\n",
    "\n",
    "num_to_find = int(input(\"Find here: \"))\n",
    "\n",
    "if num_to_find in numbers:\n",
    "    index = numbers.index(num_to_find)\n",
    "    print(index)\n",
    "else:\n",
    "    print(\"Not found\")\n",
    "\n",
    "\n",
    "num_to_count = int(input(\"Count here: \"))\n",
    "\n",
    "count = numbers.count(num_to_count)\n",
    "\n",
    "print(count)\n"
   ]
  },
  {
   "cell_type": "markdown",
   "id": "4211adb2-6e7d-405c-85b0-5535295af38b",
   "metadata": {},
   "source": [
    "### Last Question"
   ]
  },
  {
   "cell_type": "code",
   "execution_count": 20,
   "id": "1ff9d253-216e-4c1f-885f-705825777299",
   "metadata": {},
   "outputs": [
    {
     "name": "stdin",
     "output_type": "stream",
     "text": [
      "Enter the current temperature in Celsius:  1\n"
     ]
    },
    {
     "name": "stdout",
     "output_type": "stream",
     "text": [
      "The temperature is normal.\n"
     ]
    }
   ],
   "source": [
    "temperature = float(input(\"Enter the current temperature in Celsius: \"))\n",
    "\n",
    "FREEZING = -5\n",
    "NORMAL = 25\n",
    "HOT = 40\n",
    "\n",
    "if temperature <= FREEZING:\n",
    "    print(\"The temperature is freezing.\")\n",
    "elif FREEZING < temperature <= NORMAL:\n",
    "    print(\"The temperature is normal.\")\n",
    "elif NORMAL < temperature <= HOT:\n",
    "    print(\"The temperature is warm.\")\n",
    "else:\n",
    "    print(\"The temperature is hot.\")"
   ]
  },
  {
   "cell_type": "code",
   "execution_count": null,
   "id": "dd5af953-113c-4e29-a947-554b71336605",
   "metadata": {},
   "outputs": [],
   "source": []
  }
 ],
 "metadata": {
  "kernelspec": {
   "display_name": "Python 3 (ipykernel)",
   "language": "python",
   "name": "python3"
  },
  "language_info": {
   "codemirror_mode": {
    "name": "ipython",
    "version": 3
   },
   "file_extension": ".py",
   "mimetype": "text/x-python",
   "name": "python",
   "nbconvert_exporter": "python",
   "pygments_lexer": "ipython3",
   "version": "3.12.7"
  }
 },
 "nbformat": 4,
 "nbformat_minor": 5
}
